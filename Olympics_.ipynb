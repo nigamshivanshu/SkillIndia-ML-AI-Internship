{
  "nbformat": 4,
  "nbformat_minor": 0,
  "metadata": {
    "colab": {
      "name": "Olympics .ipynb",
      "provenance": [],
      "collapsed_sections": []
    },
    "kernelspec": {
      "name": "python3",
      "display_name": "Python 3"
    },
    "language_info": {
      "name": "python"
    }
  },
  "cells": [
    {
      "cell_type": "markdown",
      "metadata": {
        "id": "b3Ze_k7bLv0x"
      },
      "source": [
        "#**SUMMER OLYMPICS DATA ANALYSIS ASSIGNMENT**"
      ]
    },
    {
      "cell_type": "markdown",
      "metadata": {
        "id": "zx6ummlNPGo2"
      },
      "source": [
        "# Analysis of Summer.csv Dataset"
      ]
    },
    {
      "cell_type": "code",
      "metadata": {
        "colab": {
          "base_uri": "https://localhost:8080/",
          "height": 204
        },
        "id": "IRTlct1H0tiP",
        "outputId": "c00059ec-5c8f-44e7-abc0-50d81cf73b45"
      },
      "source": [
        "import numpy as np \n",
        "import pandas as pd\n",
        "df=pd.read_csv(\"/content/Summer.csv\")\n",
        "df.head()"
      ],
      "execution_count": 110,
      "outputs": [
        {
          "output_type": "execute_result",
          "data": {
            "text/html": [
              "<div>\n",
              "<style scoped>\n",
              "    .dataframe tbody tr th:only-of-type {\n",
              "        vertical-align: middle;\n",
              "    }\n",
              "\n",
              "    .dataframe tbody tr th {\n",
              "        vertical-align: top;\n",
              "    }\n",
              "\n",
              "    .dataframe thead th {\n",
              "        text-align: right;\n",
              "    }\n",
              "</style>\n",
              "<table border=\"1\" class=\"dataframe\">\n",
              "  <thead>\n",
              "    <tr style=\"text-align: right;\">\n",
              "      <th></th>\n",
              "      <th>Year</th>\n",
              "      <th>City</th>\n",
              "      <th>Sport</th>\n",
              "      <th>Discipline</th>\n",
              "      <th>Athlete</th>\n",
              "      <th>Country</th>\n",
              "      <th>Gender</th>\n",
              "      <th>Event</th>\n",
              "      <th>Medal</th>\n",
              "    </tr>\n",
              "  </thead>\n",
              "  <tbody>\n",
              "    <tr>\n",
              "      <th>0</th>\n",
              "      <td>1896</td>\n",
              "      <td>Athens</td>\n",
              "      <td>Aquatics</td>\n",
              "      <td>Swimming</td>\n",
              "      <td>HAJOS, Alfred</td>\n",
              "      <td>HUN</td>\n",
              "      <td>Men</td>\n",
              "      <td>100M Freestyle</td>\n",
              "      <td>Gold</td>\n",
              "    </tr>\n",
              "    <tr>\n",
              "      <th>1</th>\n",
              "      <td>1896</td>\n",
              "      <td>Athens</td>\n",
              "      <td>Aquatics</td>\n",
              "      <td>Swimming</td>\n",
              "      <td>HERSCHMANN, Otto</td>\n",
              "      <td>AUT</td>\n",
              "      <td>Men</td>\n",
              "      <td>100M Freestyle</td>\n",
              "      <td>Silver</td>\n",
              "    </tr>\n",
              "    <tr>\n",
              "      <th>2</th>\n",
              "      <td>1896</td>\n",
              "      <td>Athens</td>\n",
              "      <td>Aquatics</td>\n",
              "      <td>Swimming</td>\n",
              "      <td>DRIVAS, Dimitrios</td>\n",
              "      <td>GRE</td>\n",
              "      <td>Men</td>\n",
              "      <td>100M Freestyle For Sailors</td>\n",
              "      <td>Bronze</td>\n",
              "    </tr>\n",
              "    <tr>\n",
              "      <th>3</th>\n",
              "      <td>1896</td>\n",
              "      <td>Athens</td>\n",
              "      <td>Aquatics</td>\n",
              "      <td>Swimming</td>\n",
              "      <td>MALOKINIS, Ioannis</td>\n",
              "      <td>GRE</td>\n",
              "      <td>Men</td>\n",
              "      <td>100M Freestyle For Sailors</td>\n",
              "      <td>Gold</td>\n",
              "    </tr>\n",
              "    <tr>\n",
              "      <th>4</th>\n",
              "      <td>1896</td>\n",
              "      <td>Athens</td>\n",
              "      <td>Aquatics</td>\n",
              "      <td>Swimming</td>\n",
              "      <td>CHASAPIS, Spiridon</td>\n",
              "      <td>GRE</td>\n",
              "      <td>Men</td>\n",
              "      <td>100M Freestyle For Sailors</td>\n",
              "      <td>Silver</td>\n",
              "    </tr>\n",
              "  </tbody>\n",
              "</table>\n",
              "</div>"
            ],
            "text/plain": [
              "   Year    City     Sport  ... Gender                       Event   Medal\n",
              "0  1896  Athens  Aquatics  ...    Men              100M Freestyle    Gold\n",
              "1  1896  Athens  Aquatics  ...    Men              100M Freestyle  Silver\n",
              "2  1896  Athens  Aquatics  ...    Men  100M Freestyle For Sailors  Bronze\n",
              "3  1896  Athens  Aquatics  ...    Men  100M Freestyle For Sailors    Gold\n",
              "4  1896  Athens  Aquatics  ...    Men  100M Freestyle For Sailors  Silver\n",
              "\n",
              "[5 rows x 9 columns]"
            ]
          },
          "metadata": {},
          "execution_count": 110
        }
      ]
    },
    {
      "cell_type": "code",
      "metadata": {
        "colab": {
          "base_uri": "https://localhost:8080/"
        },
        "id": "hDYFblin1OQi",
        "outputId": "ed315603-10ae-4421-c5c2-72acdfe689f3"
      },
      "source": [
        "df.shape"
      ],
      "execution_count": 111,
      "outputs": [
        {
          "output_type": "execute_result",
          "data": {
            "text/plain": [
              "(31165, 9)"
            ]
          },
          "metadata": {},
          "execution_count": 111
        }
      ]
    },
    {
      "cell_type": "code",
      "metadata": {
        "colab": {
          "base_uri": "https://localhost:8080/"
        },
        "id": "ewzdB-k11Wol",
        "outputId": "e60e97dc-093f-4611-ee2c-144192022ca3"
      },
      "source": [
        "df.isnull().sum()"
      ],
      "execution_count": 112,
      "outputs": [
        {
          "output_type": "execute_result",
          "data": {
            "text/plain": [
              "Year          0\n",
              "City          0\n",
              "Sport         0\n",
              "Discipline    0\n",
              "Athlete       0\n",
              "Country       4\n",
              "Gender        0\n",
              "Event         0\n",
              "Medal         0\n",
              "dtype: int64"
            ]
          },
          "metadata": {},
          "execution_count": 112
        }
      ]
    },
    {
      "cell_type": "markdown",
      "metadata": {
        "id": "7cvQrR4t3Ri2"
      },
      "source": [
        "## 1.In how many cities Summer Olympics is held so far?"
      ]
    },
    {
      "cell_type": "code",
      "metadata": {
        "colab": {
          "base_uri": "https://localhost:8080/"
        },
        "id": "iFMdo-gj2V8X",
        "outputId": "9ba55883-ada4-424f-8198-8226685ab69a"
      },
      "source": [
        "num_cities=len(df['City'].unique())\n",
        "print (\"Summer Olympics held in \",num_cities,\" cities\"+'\\n')\n",
        "print(\"Number of times Summer Olympics held in these cities are:\"+\"\\n\")\n",
        "for city in df['City'].unique():\n",
        "    print (city,\":\",len(df[df['City']==city]))"
      ],
      "execution_count": 113,
      "outputs": [
        {
          "output_type": "stream",
          "name": "stdout",
          "text": [
            "Summer Olympics held in  22  cities\n",
            "\n",
            "Number of times Summer Olympics held in these cities are:\n",
            "\n",
            "Athens : 2149\n",
            "Paris : 1396\n",
            "St Louis : 470\n",
            "London : 3567\n",
            "Stockholm : 885\n",
            "Antwerp : 1298\n",
            "Amsterdam : 710\n",
            "Los Angeles : 2074\n",
            "Berlin : 875\n",
            "Helsinki : 889\n",
            "Melbourne / Stockholm : 885\n",
            "Rome : 882\n",
            "Tokyo : 1010\n",
            "Mexico : 1031\n",
            "Munich : 1185\n",
            "Montreal : 1305\n",
            "Moscow : 1387\n",
            "Seoul : 1546\n",
            "Barcelona : 1705\n",
            "Atlanta : 1859\n",
            "Sydney : 2015\n",
            "Beijing : 2042\n"
          ]
        }
      ]
    },
    {
      "cell_type": "markdown",
      "metadata": {
        "id": "bR191uvP5T3D"
      },
      "source": [
        "## 2.Which sport is having most number of Gold Medals so far?(Top 5)"
      ]
    },
    {
      "cell_type": "code",
      "metadata": {
        "id": "nrLrmcwM33J8"
      },
      "source": [
        "#Saving sports name and no. of gold medals in list \n",
        "gold_most=[]\n",
        "for sport in df['Sport'].unique():\n",
        "    x=df[df['Sport']==sport]\n",
        "    x=x[x['Medal']==\"Gold\"]\n",
        "    num=len(x)\n",
        "    gold_most.append([sport,num])"
      ],
      "execution_count": 114,
      "outputs": []
    },
    {
      "cell_type": "code",
      "metadata": {
        "colab": {
          "base_uri": "https://localhost:8080/",
          "height": 518
        },
        "id": "1_DGJ9Hk4htb",
        "outputId": "ab0d01f2-c7ca-4150-db0c-8d8d0e772f7a"
      },
      "source": [
        "#printing top 5 sports in terms of most Gold Medals\n",
        "temp_df=pd.DataFrame(gold_most,columns=['Sport','Number of Gold Medals'])\n",
        "temp_df=temp_df.sort_values(by='Number of Gold Medals',ascending=False).head()\n",
        "print(\"Top 5 sports having most gold medals:-\")\n",
        "print(temp_df.head())\n",
        "\n",
        "#Showing data in graphical form\n",
        "temp_df.plot(x=\"Sport\",y=\"Number of Gold Medals\",kind='bar', figsize=(10,5))\n"
      ],
      "execution_count": 115,
      "outputs": [
        {
          "output_type": "stream",
          "name": "stdout",
          "text": [
            "Top 5 sports having most gold medals:-\n",
            "         Sport  Number of Gold Medals\n",
            "0     Aquatics                   1421\n",
            "1    Athletics                   1215\n",
            "17      Rowing                    890\n",
            "4   Gymnastics                    820\n",
            "3      Fencing                    552\n"
          ]
        },
        {
          "output_type": "execute_result",
          "data": {
            "text/plain": [
              "<matplotlib.axes._subplots.AxesSubplot at 0x7f075bcec690>"
            ]
          },
          "metadata": {},
          "execution_count": 115
        },
        {
          "output_type": "display_data",
          "data": {
            "image/png": "[encoded data removed]",
            "text/plain": [
              "<Figure size 720x360 with 1 Axes>"
            ]
          },
          "metadata": {
            "needs_background": "light"
          }
        }
      ]
    },
    {
      "cell_type": "markdown",
      "metadata": {
        "id": "kynS7jhe8bxK"
      },
      "source": [
        "## 3.Which sport is having most number of medals so far?(Top 5)"
      ]
    },
    {
      "cell_type": "code",
      "metadata": {
        "colab": {
          "base_uri": "https://localhost:8080/",
          "height": 518
        },
        "id": "uOMknY0n8z1E",
        "outputId": "7cf4151a-d500-47cb-9643-2abd2cac743b"
      },
      "source": [
        "medals=[]\n",
        "for sport in df['Sport'].unique():\n",
        "    num_medals=len(df[df['Sport']==sport])\n",
        "    medals.append([sport,num_medals])\n",
        "data=pd.DataFrame(medals,columns=['Sport','Number of Medals'])\n",
        "data=data.sort_values(by='Number of Medals',ascending=False).head()\n",
        "print(\"Top 5 sports having more number of Medals\")\n",
        "print(data)\n",
        "\n",
        "#Showing data in graphical form\n",
        "data.plot(x=\"Sport\",y=\"Number of Medals\",kind='bar',color='indigo', figsize=(10,5))\n",
        "\n"
      ],
      "execution_count": 116,
      "outputs": [
        {
          "output_type": "stream",
          "name": "stdout",
          "text": [
            "Top 5 sports having more number of Medals\n",
            "         Sport  Number of Medals\n",
            "0     Aquatics              4170\n",
            "1    Athletics              3638\n",
            "17      Rowing              2667\n",
            "4   Gymnastics              2307\n",
            "3      Fencing              1613\n"
          ]
        },
        {
          "output_type": "execute_result",
          "data": {
            "text/plain": [
              "<matplotlib.axes._subplots.AxesSubplot at 0x7f075baefd90>"
            ]
          },
          "metadata": {},
          "execution_count": 116
        },
        {
          "output_type": "display_data",
          "data": {
            "image/png": "[encoded data removed]",
            "text/plain": [
              "<Figure size 720x360 with 1 Axes>"
            ]
          },
          "metadata": {
            "needs_background": "light"
          }
        }
      ]
    },
    {
      "cell_type": "markdown",
      "metadata": {
        "id": "stSuLVVy_dJS"
      },
      "source": [
        "## 4.Which player has won most number of medals?(Top 5)"
      ]
    },
    {
      "cell_type": "code",
      "metadata": {
        "colab": {
          "base_uri": "https://localhost:8080/",
          "height": 628
        },
        "id": "gXzLXHk4EE43",
        "outputId": "1f262d6f-01cc-4b87-db6f-1c9760ba3d04"
      },
      "source": [
        "players=[]\n",
        "for athlete in df['Athlete'].unique():\n",
        "    total_medals=len(df[df['Athlete']==athlete])\n",
        "    players.append([athlete,total_medals])\n",
        "len(players)\n",
        "new_data=pd.DataFrame(players,columns=['Athlete','Number of Medals'])\n",
        "new_data=new_data.sort_values(by='Number of Medals',ascending=False).head()\n",
        "\n",
        "print(\"Top 5 Athlete who won most number of Medals\"+\"\\n\")\n",
        "print(new_data)\n",
        "print('\\n')\n",
        "#Showing data in graphical form\n",
        "new_data.plot(x=\"Athlete\",y=\"Number of Medals\",kind='bar',color='orange', figsize=(10,5))\n"
      ],
      "execution_count": 117,
      "outputs": [
        {
          "output_type": "stream",
          "name": "stdout",
          "text": [
            "Top 5 Athlete who won most number of Medals\n",
            "\n",
            "                    Athlete  Number of Medals\n",
            "18640       PHELPS, Michael                22\n",
            "7197       LATYNINA, Larisa                18\n",
            "9948     ANDRIANOV, Nikolay                15\n",
            "6591           ONO, Takashi                13\n",
            "5103   MANGIAROTTI, Edoardo                13\n",
            "\n",
            "\n"
          ]
        },
        {
          "output_type": "execute_result",
          "data": {
            "text/plain": [
              "<matplotlib.axes._subplots.AxesSubplot at 0x7f075bd76dd0>"
            ]
          },
          "metadata": {},
          "execution_count": 117
        },
        {
          "output_type": "display_data",
          "data": {
            "image/png": "[encoded data removed]",
            "text/plain": [
              "<Figure size 720x360 with 1 Axes>"
            ]
          },
          "metadata": {
            "needs_background": "light"
          }
        }
      ]
    },
    {
      "cell_type": "markdown",
      "metadata": {
        "id": "zejpsXCDQkJp"
      },
      "source": [
        "## 5.Which player has won most number of Gold Medals of medals?(Top 5)"
      ]
    },
    {
      "cell_type": "code",
      "metadata": {
        "id": "VX-wBd75DfqX"
      },
      "source": [
        "#Saving players name and no. of gold medals in list \n",
        "gold_medals=[]\n",
        "for athlete in df['Athlete'].unique():\n",
        "    df1=df[df['Athlete']==athlete]\n",
        "    df1=df1[df1['Medal']==\"Gold\"]\n",
        "    total=len(df1)\n",
        "    gold_medals.append([athlete,total])"
      ],
      "execution_count": 118,
      "outputs": []
    },
    {
      "cell_type": "code",
      "metadata": {
        "colab": {
          "base_uri": "https://localhost:8080/",
          "height": 545
        },
        "id": "K0s4xf9RSNR6",
        "outputId": "0dc4f932-6af4-4164-ebe7-974486c9005d"
      },
      "source": [
        "#printing top 5 Athlete in terms of most Gold Medals\n",
        "temp_df1=pd.DataFrame(gold_medals,columns=['Athlete','Number of Gold Medals'])\n",
        "temp_df1=temp_df1.sort_values(by='Number of Gold Medals',ascending=False).head()\n",
        "print(\"Top 5 Athlete having most gold medals:-\")\n",
        "print(temp_df1.head())\n",
        "\n",
        "#Showing data in graphical form\n",
        "temp_df1.plot(x=\"Athlete\",y=\"Number of Gold Medals\",kind='bar',color='green', figsize=(10,5))\n"
      ],
      "execution_count": 119,
      "outputs": [
        {
          "output_type": "stream",
          "name": "stdout",
          "text": [
            "Top 5 Athlete having most gold medals:-\n",
            "                Athlete  Number of Gold Medals\n",
            "18640   PHELPS, Michael                     18\n",
            "12468       LEWIS, Carl                      9\n",
            "8811        SPITZ, Mark                      9\n",
            "2262       NURMI, Paavo                      9\n",
            "7197   LATYNINA, Larisa                      9\n"
          ]
        },
        {
          "output_type": "execute_result",
          "data": {
            "text/plain": [
              "<matplotlib.axes._subplots.AxesSubplot at 0x7f075cbbb390>"
            ]
          },
          "metadata": {},
          "execution_count": 119
        },
        {
          "output_type": "display_data",
          "data": {
            "image/png": "[encoded data removed]",
            "text/plain": [
              "<Figure size 720x360 with 1 Axes>"
            ]
          },
          "metadata": {
            "needs_background": "light"
          }
        }
      ]
    },
    {
      "cell_type": "markdown",
      "metadata": {
        "id": "Jb719DfmU6ZM"
      },
      "source": [
        "## 6. In which year India won first Gold Medal in Summer Olympics?\n"
      ]
    },
    {
      "cell_type": "code",
      "metadata": {
        "id": "qUzT7Y6XUXHW",
        "colab": {
          "base_uri": "https://localhost:8080/",
          "height": 114
        },
        "outputId": "a662ee9d-d776-4937-b079-f7bbe5fa44db"
      },
      "source": [
        "df_india=df[df['Country']==\"IND\"]\n",
        "df_india=df_india[df_india['Medal']==\"Gold\"]\n",
        "df_india=df_india.sort_values(by=\"Year\",ascending=True).head(1)\n",
        "year=(df_india[\"Year\"].values)[0]\n",
        "print(\"India won first Gold Medal in Summer Olympics in \",year,'\\n')\n",
        "df_india.head()"
      ],
      "execution_count": 120,
      "outputs": [
        {
          "output_type": "stream",
          "name": "stdout",
          "text": [
            "India won first Gold Medal in Summer Olympics in  1928 \n",
            "\n"
          ]
        },
        {
          "output_type": "execute_result",
          "data": {
            "text/html": [
              "<div>\n",
              "<style scoped>\n",
              "    .dataframe tbody tr th:only-of-type {\n",
              "        vertical-align: middle;\n",
              "    }\n",
              "\n",
              "    .dataframe tbody tr th {\n",
              "        vertical-align: top;\n",
              "    }\n",
              "\n",
              "    .dataframe thead th {\n",
              "        text-align: right;\n",
              "    }\n",
              "</style>\n",
              "<table border=\"1\" class=\"dataframe\">\n",
              "  <thead>\n",
              "    <tr style=\"text-align: right;\">\n",
              "      <th></th>\n",
              "      <th>Year</th>\n",
              "      <th>City</th>\n",
              "      <th>Sport</th>\n",
              "      <th>Discipline</th>\n",
              "      <th>Athlete</th>\n",
              "      <th>Country</th>\n",
              "      <th>Gender</th>\n",
              "      <th>Event</th>\n",
              "      <th>Medal</th>\n",
              "    </tr>\n",
              "  </thead>\n",
              "  <tbody>\n",
              "    <tr>\n",
              "      <th>5512</th>\n",
              "      <td>1928</td>\n",
              "      <td>Amsterdam</td>\n",
              "      <td>Hockey</td>\n",
              "      <td>Hockey</td>\n",
              "      <td>ALLEN, Richard James</td>\n",
              "      <td>IND</td>\n",
              "      <td>Men</td>\n",
              "      <td>Hockey</td>\n",
              "      <td>Gold</td>\n",
              "    </tr>\n",
              "  </tbody>\n",
              "</table>\n",
              "</div>"
            ],
            "text/plain": [
              "      Year       City   Sport Discipline  ... Country Gender   Event Medal\n",
              "5512  1928  Amsterdam  Hockey     Hockey  ...     IND    Men  Hockey  Gold\n",
              "\n",
              "[1 rows x 9 columns]"
            ]
          },
          "metadata": {},
          "execution_count": 120
        }
      ]
    },
    {
      "cell_type": "markdown",
      "metadata": {
        "id": "eBLxE9VVC1NR"
      },
      "source": [
        "## 7. Which event is most popular in terms on number of players? (Top 5)"
      ]
    },
    {
      "cell_type": "code",
      "metadata": {
        "colab": {
          "base_uri": "https://localhost:8080/",
          "height": 567
        },
        "id": "QL69stsPDjDW",
        "outputId": "616841bc-5ca7-478d-a63d-366f4079f7d7"
      },
      "source": [
        "popular_events=[]\n",
        "for event in df['Event'].unique():\n",
        "    n=len(df[df['Event']==event])\n",
        "    popular_events.append([event,n])\n",
        "event_df=pd.DataFrame(popular_events,columns=['Event','Number of Participants'])\n",
        "event_df=event_df.sort_values(by='Number of Participants',ascending=False).head()\n",
        "print('Top 5 most popular event in terms of player'+'\\n')\n",
        "print(event_df)\n",
        "\n",
        "#showing Visualization\n",
        "event_df.plot(x='Event',y='Number of Participants',kind='bar',color='brown',figsize=(10,5))"
      ],
      "execution_count": 121,
      "outputs": [
        {
          "output_type": "stream",
          "name": "stdout",
          "text": [
            "Top 5 most popular event in terms of player\n",
            "\n",
            "                Event  Number of Participants\n",
            "80           Football                    1497\n",
            "176            Hockey                    1422\n",
            "138  Team Competition                    1147\n",
            "327        Basketball                    1012\n",
            "337          Handball                     973\n"
          ]
        },
        {
          "output_type": "execute_result",
          "data": {
            "text/plain": [
              "<matplotlib.axes._subplots.AxesSubplot at 0x7f075b9b4e10>"
            ]
          },
          "metadata": {},
          "execution_count": 121
        },
        {
          "output_type": "display_data",
          "data": {
            "image/png": "[encoded data removed]",
            "text/plain": [
              "<Figure size 720x360 with 1 Axes>"
            ]
          },
          "metadata": {
            "needs_background": "light"
          }
        }
      ]
    },
    {
      "cell_type": "markdown",
      "metadata": {
        "id": "YjOEUUVjHhqC"
      },
      "source": [
        "## 8. Which sport is having most female Gold Medalists? (Top 5)"
      ]
    },
    {
      "cell_type": "code",
      "metadata": {
        "colab": {
          "base_uri": "https://localhost:8080/",
          "height": 535
        },
        "id": "G0UfMdJQH0Pj",
        "outputId": "502d2939-1f21-4a8a-a243-eabadc0f55da"
      },
      "source": [
        "female_df=df[df['Gender']==\"Women\"]\n",
        "female_df=female_df[female_df['Medal']==\"Gold\"]\n",
        "max_female=[]\n",
        "for sport in female_df['Sport'].unique():\n",
        "    tot=len(female_df[female_df['Sport']==sport])\n",
        "    max_female.append([sport,tot])\n",
        "sport_df=pd.DataFrame(max_female,columns=['Sport','Number of Female Participants'])\n",
        "sport_df=sport_df.sort_values(by='Number of Female Participants',ascending=False).head()\n",
        "print('Top 5 sports having most female Gold Medalists'+'\\n')\n",
        "print(sport_df)\n",
        "\n",
        "#showing Visualization\n",
        "sport_df.plot(x='Sport',y='Number of Female Participants',kind='bar',color='yellow',figsize=(10,5))"
      ],
      "execution_count": 122,
      "outputs": [
        {
          "output_type": "stream",
          "name": "stdout",
          "text": [
            "Top 5 sports having most female Gold Medalists\n",
            "\n",
            "         Sport  Number of Female Participants\n",
            "4     Aquatics                            589\n",
            "7    Athletics                            389\n",
            "8   Gymnastics                            268\n",
            "14      Rowing                            217\n",
            "11  Volleyball                            166\n"
          ]
        },
        {
          "output_type": "execute_result",
          "data": {
            "text/plain": [
              "<matplotlib.axes._subplots.AxesSubplot at 0x7f075b9313d0>"
            ]
          },
          "metadata": {},
          "execution_count": 122
        },
        {
          "output_type": "display_data",
          "data": {
            "image/png": "[encoded data removed]",
            "text/plain": [
              "<Figure size 720x360 with 1 Axes>"
            ]
          },
          "metadata": {
            "needs_background": "light"
          }
        }
      ]
    }
  ]
}